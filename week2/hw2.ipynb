{
 "cells": [
  {
   "cell_type": "markdown",
   "id": "3e7f05cc",
   "metadata": {},
   "source": [
    "Homework: Open-Source LLMs\n",
    "\n",
    "Experimenting with Ollama"
   ]
  },
  {
   "cell_type": "markdown",
   "id": "9afde2d3",
   "metadata": {},
   "source": [
    "Q1. Running Ollama with Docker"
   ]
  },
  {
   "cell_type": "code",
   "execution_count": 5,
   "id": "d2224954",
   "metadata": {},
   "outputs": [
    {
     "name": "stdout",
     "output_type": "stream",
     "text": [
      "ollama version is 0.1.48\n"
     ]
    }
   ],
   "source": [
    "!ollama -v"
   ]
  },
  {
   "cell_type": "markdown",
   "id": "deb485e7",
   "metadata": {},
   "source": [
    "Q2. Downloading an LLM\n",
    "\n",
    "We will donwload a smaller LLM - gemma:2b.\n",
    "We're interested in the metadata about this model. You can find it in models/manifests/registry.ollama.ai/library\n",
    "\n",
    "What's the content of the file related to gemma?\n",
    "\n",
    "gemma > 2b\n",
    "\n",
    "\n",
    "root@c91cfb75f056:~/.ollama/models/manifests/registry.ollama.ai/library/gemma# cat 2b\n",
    "{\"schemaVersion\":2,\"mediaType\":\"application/vnd.docker.distribution.manifest.v2+json\",\"config\":{\"mediaType\":\"application/vnd.docker.container.image.v1+json\",\"digest\":\"sha256:887433b89a901c156f7e6944442f3c9e57f3c55d6ed52042cbb7303aea994290\",\"size\":483},\"layers\":[{\"mediaType\":\"application/vnd.ollama.image.model\",\"digest\":\"sha256:c1864a5eb19305c40519da12cc543519e48a0697ecd30e15d5ac228644957d12\",\"size\":1678447520},{\"mediaType\":\"application/vnd.ollama.image.license\",\"digest\":\"sha256:097a36493f718248845233af1d3fefe7a303f864fae13bc31a3a9704229378ca\",\"size\":8433},{\"mediaType\":\"application/vnd.ollama.image.template\",\"digest\":\"sha256:109037bec39c0becc8221222ae23557559bc594290945a2c4221ab4f303b8871\",\"size\":136},{\"mediaType\":\"application/vnd.ollama.image.params\",\"digest\":\"sha256:22a838ceb7fb22755a3b0ae9b4eadde629d19be1f651f73efb8c6b4e2cd0eea0\",\"size\":84}]}\n"
   ]
  },
  {
   "cell_type": "markdown",
   "id": "c58c6ca6",
   "metadata": {},
   "source": [
    "Q3. Running the LLM\n",
    "Test the following prompt: \"10 * 10\". What's the answer?\n",
    "\n",
    "-Sure, here is the answer to your question:\n",
    "\n",
    "-10 * 10 = 100."
   ]
  },
  {
   "cell_type": "code",
   "execution_count": 47,
   "id": "6bf947bf",
   "metadata": {},
   "outputs": [],
   "source": [
    "from openai import OpenAI\n",
    "\n",
    "client = OpenAI(\n",
    "    base_url='http://localhost:11434/v1/',\n",
    "    api_key='ollama-gemma2b',\n",
    ")"
   ]
  },
  {
   "cell_type": "code",
   "execution_count": 11,
   "id": "e9d6daaf",
   "metadata": {},
   "outputs": [
    {
     "name": "stdout",
     "output_type": "stream",
     "text": [
      "Sure, here is the answer to your question:\n",
      "\n",
      "10 * 10 = 100.\n"
     ]
    }
   ],
   "source": [
    "response = client.chat.completions.create(\n",
    "        model='gemma:2b',\n",
    "        messages=[{\"role\": \"user\", \"content\": \"10 * 10\"}]\n",
    "    )\n",
    "    \n",
    "print (response.choices[0].message.content)"
   ]
  },
  {
   "cell_type": "markdown",
   "id": "3465fa0a",
   "metadata": {},
   "source": [
    "Q4. Downloading the weights\n",
    "What's the size of the ollama_files/models folder?\n",
    "1.6 GB "
   ]
  },
  {
   "cell_type": "markdown",
   "id": "eb14fb1d",
   "metadata": {},
   "source": [
    "(base) nevin@np:~/GitHub/llm-zoomcamp/week2/ollama_files$ du -h\n",
    "1.6G    ./models/blobs\n",
    "8.0K    ./models/manifests/registry.ollama.ai/library/gemma\n",
    "12K     ./models/manifests/registry.ollama.ai/library\n",
    "16K     ./models/manifests/registry.ollama.ai\n",
    "20K     ./models/manifests\n",
    "1.6G    ./models\n",
    "1.6G    ."
   ]
  },
  {
   "cell_type": "markdown",
   "id": "692f98c3",
   "metadata": {},
   "source": [
    "Q5. Adding the weights\n",
    "\n",
    "What do you put after COPY?\n",
    "\n",
    "COPY [ \"ollama_files/models\", \"/root/.ollama/models\" ]"
   ]
  },
  {
   "cell_type": "markdown",
   "id": "cfdef221",
   "metadata": {},
   "source": [
    "Q6. Serving it\n",
    "prompt = \"What's the formula for energy?\"\n",
    "How many completion tokens did you get in response?\n",
    "-306"
   ]
  },
  {
   "cell_type": "code",
   "execution_count": 55,
   "id": "091a77e6-936b-448e-a04b-bad1001f5bb0",
   "metadata": {},
   "outputs": [],
   "source": [
    "def llm(prompt):\n",
    "    response = client.chat.completions.create(\n",
    "        model='gemma:2b',\n",
    "        messages=[{\"role\": \"user\", \"content\": prompt}],\n",
    "        temperature=0.0\n",
    "    )\n",
    "    return response.choices[0].message.content,response.usage"
   ]
  },
  {
   "cell_type": "code",
   "execution_count": 56,
   "id": "988ece59-951a-4b32-ba3f-cb8efb66a9bb",
   "metadata": {},
   "outputs": [
    {
     "name": "stdout",
     "output_type": "stream",
     "text": [
      "(\"Sure, here's the formula for energy:\\n\\n**E = K + U**\\n\\nWhere:\\n\\n* **E** is the energy in joules (J)\\n* **K** is the kinetic energy in joules (J)\\n* **U** is the potential energy in joules (J)\\n\\n**Kinetic energy (K)** is the energy an object possesses when it moves or is in motion. It is calculated as half the product of its mass (m) and its velocity (v) squared:\\n\\n**K = 1/2 * m * v^2**\\n\\n**Potential energy (U)** is the energy an object possesses due to its position or configuration. It is calculated as the product of its mass and the gravitational constant (g) multiplied by the height or distance of its position.\\n\\n**Gravitational potential energy (U)** is given by the formula:\\n\\n**U = mgh**\\n\\nWhere:\\n\\n* **m** is the mass of the object in kilograms (kg)\\n* **g** is the acceleration due to gravity in meters per second squared (m/s^2)\\n* **h** is the height or distance of the object in meters (m)\\n\\nThe formula for energy tells us that energy can be transferred or converted from one form to another. For example, when a ball is thrown, its kinetic energy is converted into potential energy as it rises. When a car brakes, its potential energy is converted into kinetic energy.\", CompletionUsage(completion_tokens=306, prompt_tokens=0, total_tokens=306))\n"
     ]
    }
   ],
   "source": [
    "answer = llm(\"What's the formula for energy?\")\n",
    "print(answer)\n"
   ]
  }
 ],
 "metadata": {
  "kernelspec": {
   "display_name": "Python 3 (ipykernel)",
   "language": "python",
   "name": "python3"
  },
  "language_info": {
   "codemirror_mode": {
    "name": "ipython",
    "version": 3
   },
   "file_extension": ".py",
   "mimetype": "text/x-python",
   "name": "python",
   "nbconvert_exporter": "python",
   "pygments_lexer": "ipython3",
   "version": "3.10.14"
  }
 },
 "nbformat": 4,
 "nbformat_minor": 5
}
